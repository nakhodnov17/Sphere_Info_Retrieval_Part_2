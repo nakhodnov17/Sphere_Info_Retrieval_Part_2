{
 "cells": [
  {
   "cell_type": "code",
   "execution_count": 1,
   "metadata": {},
   "outputs": [],
   "source": [
    "import math\n",
    "import numpy as np"
   ]
  },
  {
   "cell_type": "code",
   "execution_count": 2,
   "metadata": {},
   "outputs": [],
   "source": [
    "def parse_file(name):\n",
    "    array = np.empty([1_000_000, 10], dtype=np.int)\n",
    "    with open(name, 'r') as file:\n",
    "        for idx, line in enumerate(file):\n",
    "            array[idx] = np.array(list(map(int, line.strip('\\n').split(' '))), dtype=np.int)\n",
    "    return array"
   ]
  },
  {
   "cell_type": "code",
   "execution_count": 3,
   "metadata": {},
   "outputs": [],
   "source": [
    "# Считываем файлы с данными в numpy массив\n",
    "c1 = parse_file('./c1.txt')\n",
    "c2 = parse_file('./c2.txt')"
   ]
  },
  {
   "cell_type": "code",
   "execution_count": 4,
   "metadata": {},
   "outputs": [],
   "source": [
    "session_size = 100\n",
    "n_samples = 1000\n",
    "sample_size = 100\n",
    "t_0 = 1.96"
   ]
  },
  {
   "cell_type": "code",
   "execution_count": 5,
   "metadata": {},
   "outputs": [],
   "source": [
    "# Вычисляем стастику CTR (среднее количество сессий с хотя бы одним кликом)\n",
    "CTR1, CTR2 = [], []\n",
    "for _ in range(int(c1.shape[0] / session_size)):\n",
    "    CTR1.append(np.count_nonzero(np.sum(c1[session_size * _ : session_size * (_ + 1)], axis=1) != 0) / session_size)\n",
    "    CTR2.append(np.count_nonzero(np.sum(c2[session_size * _ : session_size * (_ + 1)], axis=1) != 0) / session_size)\n",
    "CTR1 = np.array(CTR1)\n",
    "CTR2 = np.array(CTR2)"
   ]
  },
  {
   "cell_type": "code",
   "execution_count": 6,
   "metadata": {},
   "outputs": [],
   "source": [
    "# Вычисляем стастику CF (среднее количество сессий с кликом в первый результат)\n",
    "CF1, CF2 = [], []\n",
    "for _ in range(int(c1.shape[0] / session_size)):\n",
    "    CF1.append(np.count_nonzero(c1[session_size * _ : session_size * (_ + 1), 0] != 0) / session_size)\n",
    "    CF2.append(np.count_nonzero(c2[session_size * _ : session_size * (_ + 1), 0] != 0) / session_size)\n",
    "CF1 = np.array(CF1)\n",
    "CF2 = np.array(CF2)"
   ]
  },
  {
   "cell_type": "code",
   "execution_count": 7,
   "metadata": {},
   "outputs": [],
   "source": [
    "# Функция для расчёта статистики ASL \n",
    "def calc_ASL(metric_1, metric_2):\n",
    "    succ_cnt = 0\n",
    "    for _ in range(n_samples):\n",
    "        samples_idx = np.random.choice(range(len(metric_1)), size=sample_size, replace=True)\n",
    "\n",
    "        mean_1, mean_2 = np.mean(metric_1[samples_idx]), np.mean(metric_2[samples_idx])\n",
    "        var_1, var_2 = np.var(metric_1[samples_idx], ddof=1), np.var(metric_2[samples_idx], ddof=1)\n",
    "\n",
    "        t = (mean_1 - mean_2) / math.sqrt(var_1 / n_samples + var_2 / n_samples)\n",
    "\n",
    "        if t > t_0:\n",
    "            succ_cnt += 1\n",
    "    print('ASL: ', succ_cnt / n_samples)"
   ]
  },
  {
   "cell_type": "code",
   "execution_count": 8,
   "metadata": {},
   "outputs": [
    {
     "name": "stdout",
     "output_type": "stream",
     "text": [
      "ASL:  1.0\n"
     ]
    }
   ],
   "source": [
    "calc_ASL(CTR1, CTR2)"
   ]
  },
  {
   "cell_type": "code",
   "execution_count": 9,
   "metadata": {},
   "outputs": [
    {
     "name": "stdout",
     "output_type": "stream",
     "text": [
      "ASL:  1.0\n"
     ]
    }
   ],
   "source": [
    "calc_ASL(CF1, CF2)"
   ]
  },
  {
   "cell_type": "markdown",
   "metadata": {},
   "source": [
    "Т.к. в обоих случаях значение ASL $\\approx$ 1.0, следовательно гипотеза H0: CTR на двух сплитах можно\n",
    "объяснить шумами - неверна."
   ]
  }
 ],
 "metadata": {
  "kernelspec": {
   "display_name": "Python 3",
   "language": "python",
   "name": "python3"
  },
  "language_info": {
   "codemirror_mode": {
    "name": "ipython",
    "version": 3
   },
   "file_extension": ".py",
   "mimetype": "text/x-python",
   "name": "python",
   "nbconvert_exporter": "python",
   "pygments_lexer": "ipython3",
   "version": "3.7.0"
  },
  "nbTranslate": {
   "displayLangs": [
    "*"
   ],
   "hotkey": "alt-t",
   "langInMainMenu": true,
   "sourceLang": "en",
   "targetLang": "fr",
   "useGoogleTranslate": true
  }
 },
 "nbformat": 4,
 "nbformat_minor": 2
}
